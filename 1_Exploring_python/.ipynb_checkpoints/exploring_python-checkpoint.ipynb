{
 "cells": [
  {
   "cell_type": "code",
   "execution_count": 1,
   "id": "7ce904f2",
   "metadata": {},
   "outputs": [],
   "source": [
    "import math\n",
    "import numpy as np"
   ]
  },
  {
   "cell_type": "markdown",
   "id": "39b01cdb",
   "metadata": {},
   "source": [
    "## Monte Carlo valuation of European call option"
   ]
  },
  {
   "cell_type": "code",
   "execution_count": 2,
   "id": "fa25bd6a",
   "metadata": {},
   "outputs": [],
   "source": [
    "# model and simulation parameter values are defined\n",
    "S0 = 100\n",
    "K = 105\n",
    "T = 1.0\n",
    "r = 0.05\n",
    "sigma = 0.2"
   ]
  },
  {
   "cell_type": "code",
   "execution_count": 3,
   "id": "9b9dbdc9",
   "metadata": {},
   "outputs": [],
   "source": [
    "I = 100000"
   ]
  },
  {
   "cell_type": "code",
   "execution_count": 4,
   "id": "5cc87ade",
   "metadata": {},
   "outputs": [],
   "source": [
    "# seed value for the random number generator is fixed\n",
    "np.random.seed(1000)"
   ]
  },
  {
   "cell_type": "code",
   "execution_count": 6,
   "id": "de0e327a",
   "metadata": {},
   "outputs": [],
   "source": [
    "# standard normally distributed random numbers are drawn\n",
    "z = np.random.standard_normal(I)"
   ]
  },
  {
   "cell_type": "code",
   "execution_count": 7,
   "id": "6ac00beb",
   "metadata": {},
   "outputs": [],
   "source": [
    "# formula for the black-scholes-merton index\n",
    "ST = S0 * np.exp((r - sigma ** 2/2) * T + sigma * math.sqrt(T) * z)"
   ]
  },
  {
   "cell_type": "code",
   "execution_count": 8,
   "id": "bb3d363e",
   "metadata": {},
   "outputs": [],
   "source": [
    "# the options payoffs at maturity are calculated\n",
    "hT = np.maximum(ST - K, 0)"
   ]
  },
  {
   "cell_type": "code",
   "execution_count": 9,
   "id": "b9085a9a",
   "metadata": {},
   "outputs": [],
   "source": [
    "# formula for the Monte Carlo estimator for European option\n",
    "C0 = math.exp(-r * T) * np.mean(hT)"
   ]
  },
  {
   "cell_type": "code",
   "execution_count": 13,
   "id": "1f0223d6",
   "metadata": {},
   "outputs": [
    {
     "name": "stdout",
     "output_type": "stream",
     "text": [
      "Value of the European call options: 8.019\n"
     ]
    }
   ],
   "source": [
    "print(f'Value of the European call options: {C0:.3f}')"
   ]
  },
  {
   "cell_type": "markdown",
   "id": "f3ca33cb",
   "metadata": {},
   "source": [
    "## Set P 500 closing values and annualized volatility"
   ]
  },
  {
   "cell_type": "code",
   "execution_count": 20,
   "id": "24676799",
   "metadata": {},
   "outputs": [],
   "source": [
    "import numpy as np\n",
    "import pandas as pd\n",
    "from pylab import plt, mpl\n",
    "import seaborn as sns"
   ]
  },
  {
   "cell_type": "code",
   "execution_count": 21,
   "id": "3ff44512",
   "metadata": {},
   "outputs": [],
   "source": [
    "sns.set(style=\"whitegrid\") \n",
    "mpl.rcParams['font.family'] = 'serif'\n",
    "%matplotlib inline"
   ]
  },
  {
   "cell_type": "code",
   "execution_count": null,
   "id": "66652d5c",
   "metadata": {},
   "outputs": [],
   "source": []
  }
 ],
 "metadata": {
  "kernelspec": {
   "display_name": "Python 3 (ipykernel)",
   "language": "python",
   "name": "python3"
  },
  "language_info": {
   "codemirror_mode": {
    "name": "ipython",
    "version": 3
   },
   "file_extension": ".py",
   "mimetype": "text/x-python",
   "name": "python",
   "nbconvert_exporter": "python",
   "pygments_lexer": "ipython3",
   "version": "3.11.2"
  }
 },
 "nbformat": 4,
 "nbformat_minor": 5
}
